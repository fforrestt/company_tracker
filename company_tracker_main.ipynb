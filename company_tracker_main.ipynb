{
 "cells": [
  {
   "cell_type": "code",
   "execution_count": 3,
   "metadata": {},
   "outputs": [
    {
     "name": "stdout",
     "output_type": "stream",
     "text": [
      "Collecting gdeltdoc\n",
      "  Using cached gdeltdoc-1.5.0-py3-none-any.whl (13 kB)\n",
      "Collecting pandas>=1.1.4 (from gdeltdoc)\n",
      "  Using cached pandas-2.0.1-cp310-cp310-win_amd64.whl (10.7 MB)\n",
      "Collecting requests>=2.25.1 (from gdeltdoc)\n",
      "  Using cached requests-2.30.0-py3-none-any.whl (62 kB)\n",
      "Requirement already satisfied: python-dateutil>=2.8.2 in z:\\anaconda\\envs\\pythonproject1\\venv\\.venv\\lib\\site-packages (from pandas>=1.1.4->gdeltdoc) (2.8.2)\n",
      "Collecting pytz>=2020.1 (from pandas>=1.1.4->gdeltdoc)\n",
      "  Using cached pytz-2023.3-py2.py3-none-any.whl (502 kB)\n",
      "Collecting tzdata>=2022.1 (from pandas>=1.1.4->gdeltdoc)\n",
      "  Using cached tzdata-2023.3-py2.py3-none-any.whl (341 kB)\n",
      "Collecting numpy>=1.21.0 (from pandas>=1.1.4->gdeltdoc)\n",
      "  Using cached numpy-1.24.3-cp310-cp310-win_amd64.whl (14.8 MB)\n",
      "Collecting charset-normalizer<4,>=2 (from requests>=2.25.1->gdeltdoc)\n",
      "  Using cached charset_normalizer-3.1.0-cp310-cp310-win_amd64.whl (97 kB)\n",
      "Collecting idna<4,>=2.5 (from requests>=2.25.1->gdeltdoc)\n",
      "  Using cached idna-3.4-py3-none-any.whl (61 kB)\n",
      "Collecting urllib3<3,>=1.21.1 (from requests>=2.25.1->gdeltdoc)\n",
      "  Using cached urllib3-2.0.2-py3-none-any.whl (123 kB)\n",
      "Collecting certifi>=2017.4.17 (from requests>=2.25.1->gdeltdoc)\n",
      "  Using cached certifi-2023.5.7-py3-none-any.whl (156 kB)\n",
      "Requirement already satisfied: six>=1.5 in z:\\anaconda\\envs\\pythonproject1\\venv\\.venv\\lib\\site-packages (from python-dateutil>=2.8.2->pandas>=1.1.4->gdeltdoc) (1.16.0)\n",
      "Installing collected packages: pytz, urllib3, tzdata, numpy, idna, charset-normalizer, certifi, requests, pandas, gdeltdoc\n",
      "Successfully installed certifi-2023.5.7 charset-normalizer-3.1.0 gdeltdoc-1.5.0 idna-3.4 numpy-1.24.3 pandas-2.0.1 pytz-2023.3 requests-2.30.0 tzdata-2023.3 urllib3-2.0.2\n"
     ]
    }
   ],
   "source": [
    "from gdeltdoc import GdeltDoc, Filters"
   ]
  },
  {
   "cell_type": "code",
   "execution_count": 30,
   "metadata": {},
   "outputs": [
    {
     "name": "stdout",
     "output_type": "stream",
     "text": [
      "Requirement already satisfied: newspaper3k in z:\\anaconda\\envs\\pythonproject1\\venv\\.venv\\lib\\site-packages (0.2.8)\n",
      "Requirement already satisfied: beautifulsoup4>=4.4.1 in z:\\anaconda\\envs\\pythonproject1\\venv\\.venv\\lib\\site-packages (from newspaper3k) (4.12.2)\n",
      "Requirement already satisfied: Pillow>=3.3.0 in z:\\anaconda\\envs\\pythonproject1\\venv\\.venv\\lib\\site-packages (from newspaper3k) (9.5.0)\n",
      "Requirement already satisfied: PyYAML>=3.11 in z:\\anaconda\\envs\\pythonproject1\\venv\\.venv\\lib\\site-packages (from newspaper3k) (6.0)\n",
      "Requirement already satisfied: cssselect>=0.9.2 in z:\\anaconda\\envs\\pythonproject1\\venv\\.venv\\lib\\site-packages (from newspaper3k) (1.2.0)\n",
      "Requirement already satisfied: lxml>=3.6.0 in z:\\anaconda\\envs\\pythonproject1\\venv\\.venv\\lib\\site-packages (from newspaper3k) (4.9.2)\n",
      "Requirement already satisfied: nltk>=3.2.1 in z:\\anaconda\\envs\\pythonproject1\\venv\\.venv\\lib\\site-packages (from newspaper3k) (3.8.1)\n",
      "Requirement already satisfied: requests>=2.10.0 in z:\\anaconda\\envs\\pythonproject1\\venv\\.venv\\lib\\site-packages (from newspaper3k) (2.30.0)\n",
      "Requirement already satisfied: feedparser>=5.2.1 in z:\\anaconda\\envs\\pythonproject1\\venv\\.venv\\lib\\site-packages (from newspaper3k) (6.0.10)\n",
      "Requirement already satisfied: tldextract>=2.0.1 in z:\\anaconda\\envs\\pythonproject1\\venv\\.venv\\lib\\site-packages (from newspaper3k) (3.4.2)\n",
      "Requirement already satisfied: feedfinder2>=0.0.4 in z:\\anaconda\\envs\\pythonproject1\\venv\\.venv\\lib\\site-packages (from newspaper3k) (0.0.4)\n",
      "Requirement already satisfied: jieba3k>=0.35.1 in z:\\anaconda\\envs\\pythonproject1\\venv\\.venv\\lib\\site-packages (from newspaper3k) (0.35.1)\n",
      "Requirement already satisfied: python-dateutil>=2.5.3 in z:\\anaconda\\envs\\pythonproject1\\venv\\.venv\\lib\\site-packages (from newspaper3k) (2.8.2)\n",
      "Requirement already satisfied: tinysegmenter==0.3 in z:\\anaconda\\envs\\pythonproject1\\venv\\.venv\\lib\\site-packages (from newspaper3k) (0.3)\n",
      "Requirement already satisfied: soupsieve>1.2 in z:\\anaconda\\envs\\pythonproject1\\venv\\.venv\\lib\\site-packages (from beautifulsoup4>=4.4.1->newspaper3k) (2.4.1)\n",
      "Requirement already satisfied: six in z:\\anaconda\\envs\\pythonproject1\\venv\\.venv\\lib\\site-packages (from feedfinder2>=0.0.4->newspaper3k) (1.16.0)\n",
      "Requirement already satisfied: sgmllib3k in z:\\anaconda\\envs\\pythonproject1\\venv\\.venv\\lib\\site-packages (from feedparser>=5.2.1->newspaper3k) (1.0.0)\n",
      "Requirement already satisfied: click in z:\\anaconda\\envs\\pythonproject1\\venv\\.venv\\lib\\site-packages (from nltk>=3.2.1->newspaper3k) (8.1.3)\n",
      "Requirement already satisfied: joblib in z:\\anaconda\\envs\\pythonproject1\\venv\\.venv\\lib\\site-packages (from nltk>=3.2.1->newspaper3k) (1.2.0)\n",
      "Requirement already satisfied: regex>=2021.8.3 in z:\\anaconda\\envs\\pythonproject1\\venv\\.venv\\lib\\site-packages (from nltk>=3.2.1->newspaper3k) (2023.5.5)\n",
      "Requirement already satisfied: tqdm in z:\\anaconda\\envs\\pythonproject1\\venv\\.venv\\lib\\site-packages (from nltk>=3.2.1->newspaper3k) (4.65.0)\n",
      "Requirement already satisfied: charset-normalizer<4,>=2 in z:\\anaconda\\envs\\pythonproject1\\venv\\.venv\\lib\\site-packages (from requests>=2.10.0->newspaper3k) (3.1.0)\n",
      "Requirement already satisfied: idna<4,>=2.5 in z:\\anaconda\\envs\\pythonproject1\\venv\\.venv\\lib\\site-packages (from requests>=2.10.0->newspaper3k) (3.4)\n",
      "Requirement already satisfied: urllib3<3,>=1.21.1 in z:\\anaconda\\envs\\pythonproject1\\venv\\.venv\\lib\\site-packages (from requests>=2.10.0->newspaper3k) (1.26.15)\n",
      "Requirement already satisfied: certifi>=2017.4.17 in z:\\anaconda\\envs\\pythonproject1\\venv\\.venv\\lib\\site-packages (from requests>=2.10.0->newspaper3k) (2023.5.7)\n",
      "Requirement already satisfied: requests-file>=1.4 in z:\\anaconda\\envs\\pythonproject1\\venv\\.venv\\lib\\site-packages (from tldextract>=2.0.1->newspaper3k) (1.5.1)\n",
      "Requirement already satisfied: filelock>=3.0.8 in z:\\anaconda\\envs\\pythonproject1\\venv\\.venv\\lib\\site-packages (from tldextract>=2.0.1->newspaper3k) (3.12.0)\n",
      "Requirement already satisfied: colorama in z:\\anaconda\\envs\\pythonproject1\\venv\\.venv\\lib\\site-packages (from click->nltk>=3.2.1->newspaper3k) (0.4.6)\n"
     ]
    }
   ],
   "source": [
    "!pip3 install newspaper3k --upgrade"
   ]
  },
  {
   "cell_type": "code",
   "execution_count": 31,
   "metadata": {},
   "outputs": [
    {
     "ename": "SyntaxError",
     "evalue": "invalid syntax (1976566038.py, line 1)",
     "output_type": "error",
     "traceback": [
      "\u001b[1;36m  Cell \u001b[1;32mIn[31], line 1\u001b[1;36m\u001b[0m\n\u001b[1;33m    sudo apt-get install python3-pip\u001b[0m\n\u001b[1;37m         ^\u001b[0m\n\u001b[1;31mSyntaxError\u001b[0m\u001b[1;31m:\u001b[0m invalid syntax\n"
     ]
    }
   ],
   "source": [
    "sudo apt-get install python3-pip"
   ]
  }
 ],
 "metadata": {
  "kernelspec": {
   "display_name": ".venv",
   "language": "python",
   "name": "python3"
  },
  "language_info": {
   "codemirror_mode": {
    "name": "ipython",
    "version": 3
   },
   "file_extension": ".py",
   "mimetype": "text/x-python",
   "name": "python",
   "nbconvert_exporter": "python",
   "pygments_lexer": "ipython3",
   "version": "3.10.9"
  },
  "orig_nbformat": 4
 },
 "nbformat": 4,
 "nbformat_minor": 2
}
